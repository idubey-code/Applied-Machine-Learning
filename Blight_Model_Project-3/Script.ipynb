{
 "cells": [
  {
   "cell_type": "markdown",
   "metadata": {},
   "source": [
    "# Imports"
   ]
  },
  {
   "cell_type": "code",
   "execution_count": 1,
   "metadata": {},
   "outputs": [],
   "source": [
    "import pandas as pd\n",
    "import numpy as np\n",
    "from sklearn.model_selection import train_test_split\n",
    "from sklearn.model_selection import KFold\n",
    "from sklearn.model_selection import cross_val_score\n",
    "from sklearn.model_selection import GridSearchCV\n",
    "from sklearn.metrics import roc_auc_score\n",
    "from sklearn.naive_bayes import GaussianNB\n",
    "from sklearn.tree import DecisionTreeClassifier\n",
    "from sklearn.ensemble import RandomForestClassifier\n",
    "from sklearn.ensemble import GradientBoostingClassifier"
   ]
  },
  {
   "cell_type": "markdown",
   "metadata": {},
   "source": [
    "# Datasets"
   ]
  },
  {
   "cell_type": "code",
   "execution_count": 2,
   "metadata": {},
   "outputs": [],
   "source": [
    "train_df = pd.read_csv('train.csv',encoding = 'ISO-8859-1',low_memory=False)\n",
    "test_df = test_df = pd.read_csv('test.csv')"
   ]
  },
  {
   "cell_type": "markdown",
   "metadata": {},
   "source": [
    "# Training set transformation "
   ]
  },
  {
   "cell_type": "code",
   "execution_count": 3,
   "metadata": {},
   "outputs": [],
   "source": [
    "#Removing records with compliance as NaN\n",
    "train_df = train_df.dropna(subset=['compliance'])\n",
    "\n",
    "#train_df.info() - uncomment to understand more about data and values.\n",
    "\n",
    "#Columns are selected on the basis of domain knowledge. Categorical variables with large no. of unique values are dropped.\n",
    "columns_train = ['disposition','fine_amount','admin_fee','state_fee',\n",
    "                  'late_fee','discount_amount','clean_up_cost',\n",
    "                  'judgment_amount',\n",
    "                  'compliance']\n",
    "\n",
    "train_df = train_df[columns_train]\n",
    "\n",
    "#Category set union with string None for any NaN values\n",
    "convert_categorical = set(train_df['disposition'])|{'None'}\n",
    "\n",
    "#Encoding categorical variable disposition\n",
    "train_df['disposition']= (pd.Categorical(train_df['disposition'],\n",
    "                     categories=convert_categorical).fillna('None').codes)"
   ]
  },
  {
   "cell_type": "markdown",
   "metadata": {},
   "source": [
    "# Test set transformation"
   ]
  },
  {
   "cell_type": "code",
   "execution_count": 4,
   "metadata": {},
   "outputs": [],
   "source": [
    "#Here ticket_id is kept as it is required in the result expected.\n",
    "columns_test = ['ticket_id','disposition','fine_amount','admin_fee','state_fee',\n",
    "                      'late_fee','discount_amount','clean_up_cost','judgment_amount']\n",
    "    \n",
    "test_df = test_df[columns_test]\n",
    "test_df = test_df.set_index('ticket_id')\n",
    "\n",
    "convert_categorical_test = set(test_df['disposition'])|{'None'}\n",
    "test_df['disposition']= (pd.Categorical(test_df['disposition'],\n",
    "                     categories=convert_categorical_test).fillna('None').codes)"
   ]
  },
  {
   "cell_type": "markdown",
   "metadata": {},
   "source": [
    "# Preparing data"
   ]
  },
  {
   "cell_type": "code",
   "execution_count": 5,
   "metadata": {},
   "outputs": [],
   "source": [
    "#Training set\n",
    "X = train_df.iloc[:,:-1]\n",
    "\n",
    "#Target \n",
    "y = train_df.iloc[:,-1]\n",
    "\n",
    "#Train test split\n",
    "X_train, X_test, y_train, y_test = train_test_split(X, y, random_state=0)"
   ]
  },
  {
   "cell_type": "markdown",
   "metadata": {},
   "source": [
    "# Cross- Validation and Model Selection"
   ]
  },
  {
   "cell_type": "code",
   "execution_count": 6,
   "metadata": {},
   "outputs": [
    {
     "name": "stdout",
     "output_type": "stream",
     "text": [
      "GaussianNB : AUC = 0.7769058555328032\n",
      "DecisionTreeClassifier : AUC = 0.7946611059114735\n",
      "RandomForestClassifier : AUC = 0.7947565540493577\n",
      "GradientBoostingClassifier : AUC = 0.7947965715168546\n"
     ]
    }
   ],
   "source": [
    "#Performing 10-fold cross validation on four models to select the best. The scoring parameter will be \"roc_auc\".\n",
    "#We are taking K = 10 as it provides a good trade-off of low computational cost and low bias \n",
    "\n",
    "Models = [GaussianNB(), DecisionTreeClassifier(), RandomForestClassifier(), GradientBoostingClassifier()]\n",
    "\n",
    "cv = KFold(n_splits=10,shuffle=True,random_state=1)\n",
    "\n",
    "for model in Models:\n",
    "    \n",
    "    scores = cross_val_score(model, X, y, scoring = 'roc_auc',cv = cv, n_jobs = -1)\n",
    "    \n",
    "    print(f\"{type(model).__name__} : AUC = {np.mean(scores)}\")"
   ]
  },
  {
   "cell_type": "markdown",
   "metadata": {},
   "source": [
    "# Grid Search for best parameter selection"
   ]
  },
  {
   "cell_type": "code",
   "execution_count": 7,
   "metadata": {},
   "outputs": [
    {
     "name": "stdout",
     "output_type": "stream",
     "text": [
      "Test Set AUC : 0.7943714941109158\n",
      "Best Parameters : {'learning_rate': 0.1, 'max_depth': 4, 'n_estimators': 50}\n",
      "Grid Best AUC Score : 0.795008793675031\n"
     ]
    }
   ],
   "source": [
    "gbc_grid = GradientBoostingClassifier()\n",
    "\n",
    "parameters = {'n_estimators':[10,30,50],\n",
    "              'learning_rate':[0.01,0.1,1],\n",
    "              'max_depth':[3,4,5]}\n",
    "\n",
    "grid_auc = GridSearchCV(gbc_grid, param_grid = parameters, scoring = 'roc_auc')\n",
    "grid_auc.fit(X_train,y_train)\n",
    "\n",
    "y_auc = grid_auc.decision_function(X_test)\n",
    "\n",
    "print(f\"Test Set AUC : {roc_auc_score(y_test, y_auc)}\")\n",
    "print(f\"Best Parameters : {grid_auc.best_params_}\")\n",
    "print(f\"Grid Best AUC Score : {grid_auc.best_score_}\")"
   ]
  },
  {
   "cell_type": "markdown",
   "metadata": {},
   "source": [
    "# Final Model Training with given parameters "
   ]
  },
  {
   "cell_type": "code",
   "execution_count": 8,
   "metadata": {},
   "outputs": [],
   "source": [
    "gbc = GradientBoostingClassifier(learning_rate = 0.1, max_depth = 4, n_estimators = 50)\n",
    "\n",
    "gbc.fit(X_train, y_train)\n",
    "\n",
    "#Result Prediction\n",
    "y_predict = gbc.predict(test_df)\n",
    "\n",
    "#Probability prediction\n",
    "y_prob = gbc.predict_proba(test_df)"
   ]
  },
  {
   "cell_type": "markdown",
   "metadata": {},
   "source": [
    "# Result"
   ]
  },
  {
   "cell_type": "code",
   "execution_count": 9,
   "metadata": {},
   "outputs": [
    {
     "name": "stdout",
     "output_type": "stream",
     "text": [
      "ticket_id\n",
      "284932    0.049338\n",
      "285362    0.015840\n",
      "285361    0.059483\n",
      "285338    0.049338\n",
      "285346    0.059483\n",
      "            ...   \n",
      "376496    0.015840\n",
      "376497    0.015840\n",
      "376499    0.059483\n",
      "376500    0.059483\n",
      "369851    0.685503\n",
      "Name: compliance, Length: 61001, dtype: float32\n"
     ]
    }
   ],
   "source": [
    "y_df = pd.DataFrame(y_prob, index = test_df.index)\n",
    "\n",
    "compliance = y_df.iloc[:,1].rename('compliance').astype('float32')\n",
    "\n",
    "print(compliance)"
   ]
  }
 ],
 "metadata": {
  "kernelspec": {
   "display_name": "Python 3",
   "language": "python",
   "name": "python3"
  },
  "language_info": {
   "codemirror_mode": {
    "name": "ipython",
    "version": 3
   },
   "file_extension": ".py",
   "mimetype": "text/x-python",
   "name": "python",
   "nbconvert_exporter": "python",
   "pygments_lexer": "ipython3",
   "version": "3.7.6"
  }
 },
 "nbformat": 4,
 "nbformat_minor": 4
}
